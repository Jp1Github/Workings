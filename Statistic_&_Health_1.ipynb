{
 "cells": [
  {
   "cell_type": "markdown",
   "id": "824b35ff-0046-44f2-8226-a35135f570dd",
   "metadata": {},
   "source": [
    "# Statistics & Public Health 1: Cleaning and EDA"
   ]
  },
  {
   "cell_type": "markdown",
   "id": "1c96c900-be88-4519-9892-0884819da83f",
   "metadata": {},
   "source": [
    "West Nile Virus (WNV) is a viral illness largely spread by mosquitoes. The disease is transmitted to a person when an infected mosquito bites them.\r\n",
    "\r\n",
    "The city of Chicago, Illinois has been keeping track of mosquito populations and WNV prevalence using a series of traps that they place around the city. They are then able to study the captured specimens and monitor the state of WNV spread in the city.\r\n",
    "\r\n",
    "You are given mosquito tracking data from 2008 to 2019.\r\n",
    "\r\n",
    "In this deliverable, you will perform basic EDA and data wrangling to get familiar with the dataset from the city of Chicago."
   ]
  },
  {
   "cell_type": "markdown",
   "id": "719a3fdd-08ca-47e4-ba1a-e7b8da75fe3f",
   "metadata": {},
   "source": [
    "Part 1 - Basic Data Wrangling\r\n",
    "What is the shape of the dataframe?\r\n",
    "\r\n",
    "Convert the 'Date' column to have a datetime format.\r\n",
    "\r\n",
    "Pick two numeric and two categorical columns: What data they are storing? How are they distributed?\r\n",
    "\r\n",
    "Are there any columns that contain duplicate information? If so, remove the redundant columns.\r\n",
    "\r\n",
    "Are there any null values in the dataframe? If so, deal with them appropriately.\r\n",
    "\r\n",
    "Part 2 - Basic EDA\r\n",
    "Using an appropriate visual, or visuals, explore the relationship between mosquito numb\n",
    "\n",
    "r and date.\r\n",
    "Part 3 - Advanced EDA\r\n",
    "Using an appropriate visual, explore the relationship between mosquito species and WNV prevalence.\r\n",
    "\r\n",
    "Using an appropriate visual, explore the relationship between the number of mosquitos caught and trap type.\r\n",
    "Note: This visual should be a different type of visualization than the previous one\r\n",
    "\r\n",
    "Using an appropriate visual, come up with an additional insight of your choice.\r\n",
    "Note: This visual should be a different type of visualization than the previous two\r\n",
    "\r\n",
    "Requirements\r\n",
    "Please submit your Jupyter notebook which should include commented code and markdown cells explaining your methodology and findings."
   ]
  },
  {
   "cell_type": "markdown",
   "id": "67d3d742-85aa-4869-b3b6-f67512a6f06c",
   "metadata": {},
   "source": [
    "## Part 1 - Data Wrangling"
   ]
  },
  {
   "cell_type": "markdown",
   "id": "f6409f8a-fc85-45af-8356-8e2e29e630ae",
   "metadata": {},
   "source": [
    "#### Import the necessary python libraries"
   ]
  },
  {
   "cell_type": "code",
   "execution_count": 6,
   "id": "b34c3568-299f-4bf6-a3f8-5033296ff5e0",
   "metadata": {},
   "outputs": [],
   "source": [
    "import numpy as np\n",
    "import pandas as pd\n",
    "import matplotlib.pyplot as plt\n",
    "import seaborn as sns"
   ]
  },
  {
   "cell_type": "code",
   "execution_count": 7,
   "id": "76820a14-d735-41f6-8d05-b9acd57c817b",
   "metadata": {},
   "outputs": [],
   "source": [
    "# Attempt 1 of reading data\n",
    "# mosquito_df = pd.read_csv('mosquito_data.csv', index_col=0)\n",
    "mosquito_df = pd.read_csv('mosquito_data.csv', skipinitialspace=True)"
   ]
  },
  {
   "cell_type": "markdown",
   "id": "37519e1e-9e38-44bd-bf7a-e809e6091373",
   "metadata": {},
   "source": [
    "#### Shape of the DataFrame"
   ]
  },
  {
   "cell_type": "code",
   "execution_count": 8,
   "id": "8a9caf73-1d0c-49bc-a656-714ad1e649cb",
   "metadata": {},
   "outputs": [
    {
     "name": "stdout",
     "output_type": "stream",
     "text": [
      "The shape is \n",
      "Number of Rows:    18,495 \n",
      "Number of Columns: 13\n"
     ]
    }
   ],
   "source": [
    "rows, columns = mosquito_df.shape\n",
    "\n",
    "# Print the shape output\n",
    "print(f\"The shape is \\nNumber of Rows:    {rows:,} \\nNumber of Columns: {columns}\")"
   ]
  },
  {
   "cell_type": "code",
   "execution_count": 9,
   "id": "d12ed0ee-dd48-432b-86b0-f4b0dbc55d4b",
   "metadata": {},
   "outputs": [
    {
     "name": "stdout",
     "output_type": "stream",
     "text": [
      "<class 'pandas.core.frame.DataFrame'>\n",
      "RangeIndex: 18495 entries, 0 to 18494\n",
      "Data columns (total 13 columns):\n",
      " #   Column           Non-Null Count  Dtype  \n",
      "---  ------           --------------  -----  \n",
      " 0   Year             18495 non-null  int64  \n",
      " 1   Week             18495 non-null  int64  \n",
      " 2   Address Block    18495 non-null  object \n",
      " 3   Block            18495 non-null  int64  \n",
      " 4   Trap             18495 non-null  object \n",
      " 5   Trap type        18495 non-null  object \n",
      " 6   Date             18495 non-null  object \n",
      " 7   Mosquito number  18495 non-null  int64  \n",
      " 8   Mosquito ID      18495 non-null  object \n",
      " 9   WNV Present      18495 non-null  object \n",
      " 10  Species          18495 non-null  object \n",
      " 11  Lat              15571 non-null  float64\n",
      " 12  Lon              15571 non-null  float64\n",
      "dtypes: float64(2), int64(4), object(7)\n",
      "memory usage: 1.8+ MB\n"
     ]
    }
   ],
   "source": [
    "mosquito_df.info()"
   ]
  },
  {
   "cell_type": "code",
   "execution_count": 10,
   "id": "d595332b-ca1d-49dc-8f5c-9fdfb581e907",
   "metadata": {},
   "outputs": [
    {
     "data": {
      "text/html": [
       "<div>\n",
       "<style scoped>\n",
       "    .dataframe tbody tr th:only-of-type {\n",
       "        vertical-align: middle;\n",
       "    }\n",
       "\n",
       "    .dataframe tbody tr th {\n",
       "        vertical-align: top;\n",
       "    }\n",
       "\n",
       "    .dataframe thead th {\n",
       "        text-align: right;\n",
       "    }\n",
       "</style>\n",
       "<table border=\"1\" class=\"dataframe\">\n",
       "  <thead>\n",
       "    <tr style=\"text-align: right;\">\n",
       "      <th></th>\n",
       "      <th>Year</th>\n",
       "      <th>Week</th>\n",
       "      <th>Address Block</th>\n",
       "      <th>Block</th>\n",
       "      <th>Trap</th>\n",
       "      <th>Trap type</th>\n",
       "      <th>Date</th>\n",
       "      <th>Mosquito number</th>\n",
       "      <th>Mosquito ID</th>\n",
       "      <th>WNV Present</th>\n",
       "      <th>Species</th>\n",
       "      <th>Lat</th>\n",
       "      <th>Lon</th>\n",
       "    </tr>\n",
       "  </thead>\n",
       "  <tbody>\n",
       "    <tr>\n",
       "      <th>0</th>\n",
       "      <td>2019</td>\n",
       "      <td>39</td>\n",
       "      <td>100XX W OHARE AIRPORT</td>\n",
       "      <td>100</td>\n",
       "      <td>T910</td>\n",
       "      <td>GRAVID</td>\n",
       "      <td>2019-09-26 00:09:00</td>\n",
       "      <td>2</td>\n",
       "      <td>Res</td>\n",
       "      <td>negative</td>\n",
       "      <td>CULEX RESTUANS</td>\n",
       "      <td>NaN</td>\n",
       "      <td>NaN</td>\n",
       "    </tr>\n",
       "    <tr>\n",
       "      <th>1</th>\n",
       "      <td>2019</td>\n",
       "      <td>39</td>\n",
       "      <td>52XX S KOLMAR AVE</td>\n",
       "      <td>52</td>\n",
       "      <td>T114</td>\n",
       "      <td>GRAVID</td>\n",
       "      <td>2019-09-26 00:09:00</td>\n",
       "      <td>1</td>\n",
       "      <td>Res</td>\n",
       "      <td>negative</td>\n",
       "      <td>CULEX RESTUANS</td>\n",
       "      <td>41.798211</td>\n",
       "      <td>-87.736925</td>\n",
       "    </tr>\n",
       "    <tr>\n",
       "      <th>2</th>\n",
       "      <td>2019</td>\n",
       "      <td>39</td>\n",
       "      <td>58XX N WESTERN AVE</td>\n",
       "      <td>58</td>\n",
       "      <td>T028</td>\n",
       "      <td>GRAVID</td>\n",
       "      <td>2019-09-26 00:09:00</td>\n",
       "      <td>2</td>\n",
       "      <td>Res</td>\n",
       "      <td>negative</td>\n",
       "      <td>CULEX RESTUANS</td>\n",
       "      <td>41.987245</td>\n",
       "      <td>-87.689417</td>\n",
       "    </tr>\n",
       "  </tbody>\n",
       "</table>\n",
       "</div>"
      ],
      "text/plain": [
       "   Year  Week          Address Block  Block  Trap Trap type  \\\n",
       "0  2019    39  100XX W OHARE AIRPORT    100  T910    GRAVID   \n",
       "1  2019    39      52XX S KOLMAR AVE     52  T114    GRAVID   \n",
       "2  2019    39     58XX N WESTERN AVE     58  T028    GRAVID   \n",
       "\n",
       "                  Date  Mosquito number Mosquito ID WNV Present  \\\n",
       "0  2019-09-26 00:09:00                2         Res    negative   \n",
       "1  2019-09-26 00:09:00                1         Res    negative   \n",
       "2  2019-09-26 00:09:00                2         Res    negative   \n",
       "\n",
       "          Species        Lat        Lon  \n",
       "0  CULEX RESTUANS        NaN        NaN  \n",
       "1  CULEX RESTUANS  41.798211 -87.736925  \n",
       "2  CULEX RESTUANS  41.987245 -87.689417  "
      ]
     },
     "execution_count": 10,
     "metadata": {},
     "output_type": "execute_result"
    }
   ],
   "source": [
    "mosquito_df.head(3)\n",
    "# mosquito_df.tail(3)"
   ]
  },
  {
   "cell_type": "code",
   "execution_count": 11,
   "id": "1afce6ef-5f70-4465-9aaf-bbebae1a5c18",
   "metadata": {
    "scrolled": true
   },
   "outputs": [
    {
     "data": {
      "text/html": [
       "<div>\n",
       "<style scoped>\n",
       "    .dataframe tbody tr th:only-of-type {\n",
       "        vertical-align: middle;\n",
       "    }\n",
       "\n",
       "    .dataframe tbody tr th {\n",
       "        vertical-align: top;\n",
       "    }\n",
       "\n",
       "    .dataframe thead th {\n",
       "        text-align: right;\n",
       "    }\n",
       "</style>\n",
       "<table border=\"1\" class=\"dataframe\">\n",
       "  <thead>\n",
       "    <tr style=\"text-align: right;\">\n",
       "      <th></th>\n",
       "      <th>Year</th>\n",
       "      <th>Week</th>\n",
       "      <th>Block</th>\n",
       "      <th>Mosquito number</th>\n",
       "      <th>Lat</th>\n",
       "      <th>Lon</th>\n",
       "    </tr>\n",
       "  </thead>\n",
       "  <tbody>\n",
       "    <tr>\n",
       "      <th>count</th>\n",
       "      <td>18495.000000</td>\n",
       "      <td>18495.000000</td>\n",
       "      <td>18495.000000</td>\n",
       "      <td>18495.000000</td>\n",
       "      <td>15571.000000</td>\n",
       "      <td>15571.000000</td>\n",
       "    </tr>\n",
       "    <tr>\n",
       "      <th>mean</th>\n",
       "      <td>2012.905812</td>\n",
       "      <td>31.004001</td>\n",
       "      <td>54.314788</td>\n",
       "      <td>10.879913</td>\n",
       "      <td>41.839963</td>\n",
       "      <td>-87.691642</td>\n",
       "    </tr>\n",
       "    <tr>\n",
       "      <th>std</th>\n",
       "      <td>3.725857</td>\n",
       "      <td>4.332020</td>\n",
       "      <td>36.712796</td>\n",
       "      <td>13.475066</td>\n",
       "      <td>0.111374</td>\n",
       "      <td>0.076545</td>\n",
       "    </tr>\n",
       "    <tr>\n",
       "      <th>min</th>\n",
       "      <td>2007.000000</td>\n",
       "      <td>20.000000</td>\n",
       "      <td>1.000000</td>\n",
       "      <td>1.000000</td>\n",
       "      <td>41.644720</td>\n",
       "      <td>-87.854473</td>\n",
       "    </tr>\n",
       "    <tr>\n",
       "      <th>25%</th>\n",
       "      <td>2010.000000</td>\n",
       "      <td>28.000000</td>\n",
       "      <td>22.000000</td>\n",
       "      <td>2.000000</td>\n",
       "      <td>41.742670</td>\n",
       "      <td>-87.747459</td>\n",
       "    </tr>\n",
       "    <tr>\n",
       "      <th>50%</th>\n",
       "      <td>2013.000000</td>\n",
       "      <td>31.000000</td>\n",
       "      <td>51.000000</td>\n",
       "      <td>5.000000</td>\n",
       "      <td>41.845715</td>\n",
       "      <td>-87.691698</td>\n",
       "    </tr>\n",
       "    <tr>\n",
       "      <th>75%</th>\n",
       "      <td>2016.000000</td>\n",
       "      <td>34.000000</td>\n",
       "      <td>89.000000</td>\n",
       "      <td>14.000000</td>\n",
       "      <td>41.945961</td>\n",
       "      <td>-87.637873</td>\n",
       "    </tr>\n",
       "    <tr>\n",
       "      <th>max</th>\n",
       "      <td>2019.000000</td>\n",
       "      <td>40.000000</td>\n",
       "      <td>132.000000</td>\n",
       "      <td>50.000000</td>\n",
       "      <td>42.017801</td>\n",
       "      <td>-87.531051</td>\n",
       "    </tr>\n",
       "  </tbody>\n",
       "</table>\n",
       "</div>"
      ],
      "text/plain": [
       "               Year          Week         Block  Mosquito number  \\\n",
       "count  18495.000000  18495.000000  18495.000000     18495.000000   \n",
       "mean    2012.905812     31.004001     54.314788        10.879913   \n",
       "std        3.725857      4.332020     36.712796        13.475066   \n",
       "min     2007.000000     20.000000      1.000000         1.000000   \n",
       "25%     2010.000000     28.000000     22.000000         2.000000   \n",
       "50%     2013.000000     31.000000     51.000000         5.000000   \n",
       "75%     2016.000000     34.000000     89.000000        14.000000   \n",
       "max     2019.000000     40.000000    132.000000        50.000000   \n",
       "\n",
       "                Lat           Lon  \n",
       "count  15571.000000  15571.000000  \n",
       "mean      41.839963    -87.691642  \n",
       "std        0.111374      0.076545  \n",
       "min       41.644720    -87.854473  \n",
       "25%       41.742670    -87.747459  \n",
       "50%       41.845715    -87.691698  \n",
       "75%       41.945961    -87.637873  \n",
       "max       42.017801    -87.531051  "
      ]
     },
     "execution_count": 11,
     "metadata": {},
     "output_type": "execute_result"
    }
   ],
   "source": [
    "mosquito_df.describe()"
   ]
  },
  {
   "cell_type": "markdown",
   "id": "9cabaa0c-1941-48db-ac9a-6033ed2af5a0",
   "metadata": {},
   "source": [
    "#### Inspect the Date column"
   ]
  },
  {
   "cell_type": "code",
   "execution_count": 12,
   "id": "4015ae03-f16d-443b-bafc-c1490e92d9a4",
   "metadata": {},
   "outputs": [
    {
     "data": {
      "text/plain": [
       "0        2019-09-26 00:09:00\n",
       "1        2019-09-26 00:09:00\n",
       "2        2019-09-26 00:09:00\n",
       "3        2019-09-26 00:09:00\n",
       "4        2019-09-26 00:09:00\n",
       "                ...         \n",
       "18490    2016-09-09 00:09:00\n",
       "18491    2007-08-24 00:08:00\n",
       "18492    2016-07-27 00:07:00\n",
       "18493    2017-08-17 00:08:00\n",
       "18494    2015-08-20 00:08:00\n",
       "Name: Date, Length: 18495, dtype: object"
      ]
     },
     "execution_count": 12,
     "metadata": {},
     "output_type": "execute_result"
    }
   ],
   "source": [
    "mosquito_df['Date']"
   ]
  },
  {
   "cell_type": "markdown",
   "id": "d29e962a-6cf7-489f-9a04-c1856f34b48f",
   "metadata": {},
   "source": [
    "The 'Date' column/field is an object type (str)"
   ]
  },
  {
   "cell_type": "markdown",
   "id": "69f72318-8487-4b78-91a1-c8a13b9b28b0",
   "metadata": {},
   "source": [
    "#### Ways to convert object to a datetime"
   ]
  },
  {
   "cell_type": "code",
   "execution_count": 13,
   "id": "c32865ce-9a16-4f59-800d-eeacb3bf753d",
   "metadata": {},
   "outputs": [
    {
     "data": {
      "text/plain": [
       "0       2019-09-26 00:09:00\n",
       "1       2019-09-26 00:09:00\n",
       "2       2019-09-26 00:09:00\n",
       "3       2019-09-26 00:09:00\n",
       "4       2019-09-26 00:09:00\n",
       "                ...        \n",
       "18490   2016-09-09 00:09:00\n",
       "18491   2007-08-24 00:08:00\n",
       "18492   2016-07-27 00:07:00\n",
       "18493   2017-08-17 00:08:00\n",
       "18494   2015-08-20 00:08:00\n",
       "Name: Date, Length: 18495, dtype: datetime64[ns]"
      ]
     },
     "execution_count": 13,
     "metadata": {},
     "output_type": "execute_result"
    }
   ],
   "source": [
    "# Convert a Series 'df['Date']' to datetime by calling a function 'to_datetime'\n",
    "# pd.to_datetime(mosquito_df['Date'])\n",
    "\n",
    "# By converting using the function 'astype()'\n",
    "mosquito_df['Date'].astype('datetime64[ns]')"
   ]
  },
  {
   "cell_type": "code",
   "execution_count": 14,
   "id": "4a59713e-8d3f-4b8a-845d-6b63bea9e326",
   "metadata": {
    "scrolled": true
   },
   "outputs": [
    {
     "data": {
      "text/html": [
       "<div>\n",
       "<style scoped>\n",
       "    .dataframe tbody tr th:only-of-type {\n",
       "        vertical-align: middle;\n",
       "    }\n",
       "\n",
       "    .dataframe tbody tr th {\n",
       "        vertical-align: top;\n",
       "    }\n",
       "\n",
       "    .dataframe thead th {\n",
       "        text-align: right;\n",
       "    }\n",
       "</style>\n",
       "<table border=\"1\" class=\"dataframe\">\n",
       "  <thead>\n",
       "    <tr style=\"text-align: right;\">\n",
       "      <th></th>\n",
       "      <th>Year</th>\n",
       "      <th>Week</th>\n",
       "      <th>Address Block</th>\n",
       "      <th>Block</th>\n",
       "      <th>Trap</th>\n",
       "      <th>Trap type</th>\n",
       "      <th>Date</th>\n",
       "      <th>Mosquito number</th>\n",
       "      <th>Mosquito ID</th>\n",
       "      <th>WNV Present</th>\n",
       "      <th>Species</th>\n",
       "      <th>Lat</th>\n",
       "      <th>Lon</th>\n",
       "    </tr>\n",
       "  </thead>\n",
       "  <tbody>\n",
       "    <tr>\n",
       "      <th>0</th>\n",
       "      <td>2019</td>\n",
       "      <td>39</td>\n",
       "      <td>100XX W OHARE AIRPORT</td>\n",
       "      <td>100</td>\n",
       "      <td>T910</td>\n",
       "      <td>GRAVID</td>\n",
       "      <td>2019-09-26</td>\n",
       "      <td>2</td>\n",
       "      <td>Res</td>\n",
       "      <td>negative</td>\n",
       "      <td>CULEX RESTUANS</td>\n",
       "      <td>NaN</td>\n",
       "      <td>NaN</td>\n",
       "    </tr>\n",
       "    <tr>\n",
       "      <th>1</th>\n",
       "      <td>2019</td>\n",
       "      <td>39</td>\n",
       "      <td>52XX S KOLMAR AVE</td>\n",
       "      <td>52</td>\n",
       "      <td>T114</td>\n",
       "      <td>GRAVID</td>\n",
       "      <td>2019-09-26</td>\n",
       "      <td>1</td>\n",
       "      <td>Res</td>\n",
       "      <td>negative</td>\n",
       "      <td>CULEX RESTUANS</td>\n",
       "      <td>41.798211</td>\n",
       "      <td>-87.736925</td>\n",
       "    </tr>\n",
       "    <tr>\n",
       "      <th>2</th>\n",
       "      <td>2019</td>\n",
       "      <td>39</td>\n",
       "      <td>58XX N WESTERN AVE</td>\n",
       "      <td>58</td>\n",
       "      <td>T028</td>\n",
       "      <td>GRAVID</td>\n",
       "      <td>2019-09-26</td>\n",
       "      <td>2</td>\n",
       "      <td>Res</td>\n",
       "      <td>negative</td>\n",
       "      <td>CULEX RESTUANS</td>\n",
       "      <td>41.987245</td>\n",
       "      <td>-87.689417</td>\n",
       "    </tr>\n",
       "  </tbody>\n",
       "</table>\n",
       "</div>"
      ],
      "text/plain": [
       "   Year  Week          Address Block  Block  Trap Trap type       Date  \\\n",
       "0  2019    39  100XX W OHARE AIRPORT    100  T910    GRAVID 2019-09-26   \n",
       "1  2019    39      52XX S KOLMAR AVE     52  T114    GRAVID 2019-09-26   \n",
       "2  2019    39     58XX N WESTERN AVE     58  T028    GRAVID 2019-09-26   \n",
       "\n",
       "   Mosquito number Mosquito ID WNV Present         Species        Lat  \\\n",
       "0                2         Res    negative  CULEX RESTUANS        NaN   \n",
       "1                1         Res    negative  CULEX RESTUANS  41.798211   \n",
       "2                2         Res    negative  CULEX RESTUANS  41.987245   \n",
       "\n",
       "         Lon  \n",
       "0        NaN  \n",
       "1 -87.736925  \n",
       "2 -87.689417  "
      ]
     },
     "execution_count": 14,
     "metadata": {},
     "output_type": "execute_result"
    }
   ],
   "source": [
    "# Below code will remove the time.\n",
    "mosquito_df['Date'] = pd.to_datetime(mosquito_df['Date']).dt.date.astype('datetime64[ns]')\n",
    "mosquito_df.head(3)"
   ]
  },
  {
   "cell_type": "code",
   "execution_count": 16,
   "id": "fac836f6-db61-434b-9049-aff9c0bc0542",
   "metadata": {},
   "outputs": [
    {
     "data": {
      "text/plain": [
       "0       2019-09-26\n",
       "1       2019-09-26\n",
       "2       2019-09-26\n",
       "3       2019-09-26\n",
       "4       2019-09-26\n",
       "           ...    \n",
       "18490   2016-09-09\n",
       "18491   2007-08-24\n",
       "18492   2016-07-27\n",
       "18493   2017-08-17\n",
       "18494   2015-08-20\n",
       "Name: Date, Length: 18495, dtype: datetime64[ns]"
      ]
     },
     "execution_count": 16,
     "metadata": {},
     "output_type": "execute_result"
    }
   ],
   "source": [
    "# Reassign back the data (without the time) back to the column/field 'Date'\n",
    "mosquito_df['Date'] = pd.to_datetime(mosquito_df['Date']).dt.date.astype('datetime64[ns]')\n",
    "\n",
    "# Check if properly done.\n",
    "mosquito_df['Date']"
   ]
  },
  {
   "cell_type": "markdown",
   "id": "a03e4d9c-5430-41a6-a884-77616a75cef9",
   "metadata": {},
   "source": [
    "#### Pick two numeric and two categorical columns: What data they are storing? How are they distributed?"
   ]
  },
  {
   "cell_type": "markdown",
   "id": "ae2a3ac3-9e78-4fa2-98df-ac2db243633f",
   "metadata": {},
   "source": [
    "The 'Address Block' column/fields contains  information about the places where the trap is placed.\n",
    "While the 'Species' column/fields about the type of mosquito. Both is a string object."
   ]
  },
  {
   "cell_type": "code",
   "execution_count": 17,
   "id": "062fddce-0071-4141-badd-983000a5f709",
   "metadata": {},
   "outputs": [
    {
     "data": {
      "text/plain": [
       "Year                        int64\n",
       "Week                        int64\n",
       "Address Block              object\n",
       "Block                       int64\n",
       "Trap                       object\n",
       "Trap type                  object\n",
       "Date               datetime64[ns]\n",
       "Mosquito number             int64\n",
       "Mosquito ID                object\n",
       "WNV Present                object\n",
       "Species                    object\n",
       "Lat                       float64\n",
       "Lon                       float64\n",
       "dtype: object"
      ]
     },
     "execution_count": 17,
     "metadata": {},
     "output_type": "execute_result"
    }
   ],
   "source": [
    "mosquito_df.dtypes"
   ]
  },
  {
   "cell_type": "code",
   "execution_count": 18,
   "id": "b078be20-9780-4c16-97c0-175be0bc4d54",
   "metadata": {},
   "outputs": [
    {
     "data": {
      "text/plain": [
       "Address Block    object\n",
       "Species          object\n",
       "dtype: object"
      ]
     },
     "execution_count": 18,
     "metadata": {},
     "output_type": "execute_result"
    }
   ],
   "source": [
    "mosquito_df[['Address Block', 'Species']].dtypes"
   ]
  },
  {
   "cell_type": "markdown",
   "id": "119b654f-e0ac-49f6-aa98-040dba798cec",
   "metadata": {},
   "source": [
    "The 'Week' and 'Date' column/field is a numeric value. Date as datetime64 and Week as int64. Considered discrete numbers."
   ]
  },
  {
   "cell_type": "code",
   "execution_count": 19,
   "id": "e3cc63ed-cd07-4968-9eb3-f950a6757a4e",
   "metadata": {},
   "outputs": [
    {
     "data": {
      "text/plain": [
       "Week             int64\n",
       "Date    datetime64[ns]\n",
       "dtype: object"
      ]
     },
     "execution_count": 19,
     "metadata": {},
     "output_type": "execute_result"
    }
   ],
   "source": [
    "mosquito_df[['Week', 'Date']].dtypes"
   ]
  },
  {
   "cell_type": "markdown",
   "id": "95bc6c9c-fcbe-4075-a43f-55d624cbd435",
   "metadata": {},
   "source": [
    "#### Are there any columns that contain duplicate information? If so, remove the redundant columns."
   ]
  },
  {
   "cell_type": "code",
   "execution_count": 20,
   "id": "83c5829d-0172-45cb-af3f-553e1458cfe2",
   "metadata": {},
   "outputs": [],
   "source": [
    "# Check for duplicate rows and get the total\n",
    "num_of_duplicate = mosquito_df.duplicated().sum()"
   ]
  },
  {
   "cell_type": "code",
   "execution_count": 21,
   "id": "aff3a1ac-1a0c-4813-9798-480cf3b5e41d",
   "metadata": {},
   "outputs": [],
   "source": [
    "# Check for duplicate percentage\n",
    "avg_of_duplicate = mosquito_df.duplicated().mean()*100"
   ]
  },
  {
   "cell_type": "code",
   "execution_count": 22,
   "id": "e4a24a74-2765-438d-ae58-e908d6801e13",
   "metadata": {
    "scrolled": true
   },
   "outputs": [
    {
     "name": "stdout",
     "output_type": "stream",
     "text": [
      "There are 658 duplicated rows. Average of 3.56%\n"
     ]
    }
   ],
   "source": [
    "# Check if the duplicated rows are removed.\n",
    "print(f'There are {num_of_duplicate} duplicated rows. Average of {avg_of_duplicate:.2f}%')"
   ]
  },
  {
   "cell_type": "code",
   "execution_count": 24,
   "id": "67dc6a44-596e-49f0-8977-576170048ba6",
   "metadata": {},
   "outputs": [
    {
     "data": {
      "text/plain": [
       "Year               658\n",
       "Week               658\n",
       "Address Block      658\n",
       "Block              658\n",
       "Trap               658\n",
       "Trap type          658\n",
       "Date               658\n",
       "Mosquito number    658\n",
       "Mosquito ID        658\n",
       "WNV Present        658\n",
       "Species            658\n",
       "Lat                  0\n",
       "Lon                  0\n",
       "dtype: int64"
      ]
     },
     "execution_count": 24,
     "metadata": {},
     "output_type": "execute_result"
    }
   ],
   "source": [
    "# Check for duplicate rows count\n",
    "mosquito_df[mosquito_df.duplicated()].count()"
   ]
  },
  {
   "cell_type": "markdown",
   "id": "c1635830-e166-4d53-b94f-08d63446316f",
   "metadata": {},
   "source": [
    "#### Ways of dropping duplicated rows"
   ]
  },
  {
   "cell_type": "code",
   "execution_count": 25,
   "id": "55cd7ff8-69ad-4962-a83b-344bbf3deac4",
   "metadata": {},
   "outputs": [],
   "source": [
    "# Using the inplace=True argument\n",
    "# mosquito_df.drop_duplicates(inplace=True)\n",
    "\n",
    "# Or by re-assign it back to the DataFrame\n",
    "mosquito_df = mosquito_df.drop_duplicates()"
   ]
  },
  {
   "cell_type": "code",
   "execution_count": 27,
   "id": "dd28716f-3352-4cc1-b484-385d84df04dc",
   "metadata": {
    "scrolled": true
   },
   "outputs": [
    {
     "name": "stdout",
     "output_type": "stream",
     "text": [
      "There are 0 duplicated rows. Average of 0.000%\n"
     ]
    }
   ],
   "source": [
    "# Check for duplicate rows and get the total\n",
    "num_of_duplicate = mosquito_df.duplicated().sum()\n",
    "\n",
    "# Check for duplicate percentage\n",
    "avg_of_duplicate = mosquito_df.duplicated().mean()*100\n",
    "\n",
    "# Check if the duplicated rows are removed.\n",
    "print(f'There are {num_of_duplicate} duplicated rows. Average of {avg_of_duplicate:.3f}%')"
   ]
  },
  {
   "cell_type": "markdown",
   "id": "437e6b81-1183-4814-80dc-d3546bf60b18",
   "metadata": {},
   "source": [
    "#### Check column wise if there are duplicates"
   ]
  },
  {
   "cell_type": "code",
   "execution_count": 28,
   "id": "b61affa9-0f7c-45d5-8517-540679e6dbb9",
   "metadata": {},
   "outputs": [
    {
     "data": {
      "text/plain": [
       "Year               False\n",
       "Week               False\n",
       "Address Block      False\n",
       "Block              False\n",
       "Trap               False\n",
       "Trap type          False\n",
       "Date               False\n",
       "Mosquito number    False\n",
       "Mosquito ID        False\n",
       "WNV Present        False\n",
       "Species            False\n",
       "Lat                False\n",
       "Lon                False\n",
       "dtype: bool"
      ]
     },
     "execution_count": 28,
     "metadata": {},
     "output_type": "execute_result"
    }
   ],
   "source": [
    "# mosquito_df.transpose().duplicated()\n",
    "\n",
    "#Another way\n",
    "mosquito_df.T.duplicated()"
   ]
  },
  {
   "cell_type": "markdown",
   "id": "0d942e8e-7a87-4231-986a-0aaf9fb7c47a",
   "metadata": {},
   "source": [
    "There are no duplicated columnwise. But the Year seems redundant because\n",
    "the Date contains the year too."
   ]
  },
  {
   "cell_type": "code",
   "execution_count": 29,
   "id": "fe5ec554-76f3-47a9-a8c1-e6dd3c4b62ea",
   "metadata": {},
   "outputs": [
    {
     "data": {
      "text/plain": [
       "Week               False\n",
       "Address Block      False\n",
       "Block              False\n",
       "Trap               False\n",
       "Trap type          False\n",
       "Date               False\n",
       "Mosquito number    False\n",
       "Mosquito ID        False\n",
       "WNV Present        False\n",
       "Species            False\n",
       "Lat                False\n",
       "Lon                False\n",
       "dtype: bool"
      ]
     },
     "execution_count": 29,
     "metadata": {},
     "output_type": "execute_result"
    }
   ],
   "source": [
    "# Drop the 'Year' column/field\n",
    "mosquito_df.drop('Year', axis=1).T.duplicated()"
   ]
  },
  {
   "cell_type": "code",
   "execution_count": 30,
   "id": "df9cb538-11c1-4817-a47a-58666de928c9",
   "metadata": {},
   "outputs": [
    {
     "data": {
      "text/html": [
       "<div>\n",
       "<style scoped>\n",
       "    .dataframe tbody tr th:only-of-type {\n",
       "        vertical-align: middle;\n",
       "    }\n",
       "\n",
       "    .dataframe tbody tr th {\n",
       "        vertical-align: top;\n",
       "    }\n",
       "\n",
       "    .dataframe thead th {\n",
       "        text-align: right;\n",
       "    }\n",
       "</style>\n",
       "<table border=\"1\" class=\"dataframe\">\n",
       "  <thead>\n",
       "    <tr style=\"text-align: right;\">\n",
       "      <th></th>\n",
       "      <th>Year</th>\n",
       "      <th>Week</th>\n",
       "      <th>Address Block</th>\n",
       "      <th>Block</th>\n",
       "      <th>Trap</th>\n",
       "      <th>Trap type</th>\n",
       "      <th>Date</th>\n",
       "      <th>Mosquito number</th>\n",
       "      <th>Mosquito ID</th>\n",
       "      <th>WNV Present</th>\n",
       "      <th>Species</th>\n",
       "      <th>Lat</th>\n",
       "      <th>Lon</th>\n",
       "    </tr>\n",
       "  </thead>\n",
       "  <tbody>\n",
       "    <tr>\n",
       "      <th>0</th>\n",
       "      <td>2019</td>\n",
       "      <td>39</td>\n",
       "      <td>100XX W OHARE AIRPORT</td>\n",
       "      <td>100</td>\n",
       "      <td>T910</td>\n",
       "      <td>GRAVID</td>\n",
       "      <td>2019-09-26</td>\n",
       "      <td>2</td>\n",
       "      <td>Res</td>\n",
       "      <td>negative</td>\n",
       "      <td>CULEX RESTUANS</td>\n",
       "      <td>NaN</td>\n",
       "      <td>NaN</td>\n",
       "    </tr>\n",
       "    <tr>\n",
       "      <th>1</th>\n",
       "      <td>2019</td>\n",
       "      <td>39</td>\n",
       "      <td>52XX S KOLMAR AVE</td>\n",
       "      <td>52</td>\n",
       "      <td>T114</td>\n",
       "      <td>GRAVID</td>\n",
       "      <td>2019-09-26</td>\n",
       "      <td>1</td>\n",
       "      <td>Res</td>\n",
       "      <td>negative</td>\n",
       "      <td>CULEX RESTUANS</td>\n",
       "      <td>41.798211</td>\n",
       "      <td>-87.736925</td>\n",
       "    </tr>\n",
       "    <tr>\n",
       "      <th>2</th>\n",
       "      <td>2019</td>\n",
       "      <td>39</td>\n",
       "      <td>58XX N WESTERN AVE</td>\n",
       "      <td>58</td>\n",
       "      <td>T028</td>\n",
       "      <td>GRAVID</td>\n",
       "      <td>2019-09-26</td>\n",
       "      <td>2</td>\n",
       "      <td>Res</td>\n",
       "      <td>negative</td>\n",
       "      <td>CULEX RESTUANS</td>\n",
       "      <td>41.987245</td>\n",
       "      <td>-87.689417</td>\n",
       "    </tr>\n",
       "    <tr>\n",
       "      <th>3</th>\n",
       "      <td>2019</td>\n",
       "      <td>39</td>\n",
       "      <td>39XX N SPRINGFIELD AVE</td>\n",
       "      <td>39</td>\n",
       "      <td>T228</td>\n",
       "      <td>GRAVID</td>\n",
       "      <td>2019-09-26</td>\n",
       "      <td>1</td>\n",
       "      <td>Res</td>\n",
       "      <td>negative</td>\n",
       "      <td>CULEX RESTUANS</td>\n",
       "      <td>41.953664</td>\n",
       "      <td>-87.724987</td>\n",
       "    </tr>\n",
       "    <tr>\n",
       "      <th>4</th>\n",
       "      <td>2019</td>\n",
       "      <td>39</td>\n",
       "      <td>131XX S BRANDON AVE</td>\n",
       "      <td>131</td>\n",
       "      <td>T209</td>\n",
       "      <td>GRAVID</td>\n",
       "      <td>2019-09-26</td>\n",
       "      <td>9</td>\n",
       "      <td>Res</td>\n",
       "      <td>negative</td>\n",
       "      <td>CULEX RESTUANS</td>\n",
       "      <td>41.657069</td>\n",
       "      <td>-87.546049</td>\n",
       "    </tr>\n",
       "    <tr>\n",
       "      <th>...</th>\n",
       "      <td>...</td>\n",
       "      <td>...</td>\n",
       "      <td>...</td>\n",
       "      <td>...</td>\n",
       "      <td>...</td>\n",
       "      <td>...</td>\n",
       "      <td>...</td>\n",
       "      <td>...</td>\n",
       "      <td>...</td>\n",
       "      <td>...</td>\n",
       "      <td>...</td>\n",
       "      <td>...</td>\n",
       "      <td>...</td>\n",
       "    </tr>\n",
       "    <tr>\n",
       "      <th>18489</th>\n",
       "      <td>2013</td>\n",
       "      <td>35</td>\n",
       "      <td>63XX W 64TH ST</td>\n",
       "      <td>63</td>\n",
       "      <td>T155</td>\n",
       "      <td>GRAVID</td>\n",
       "      <td>2013-08-29</td>\n",
       "      <td>3</td>\n",
       "      <td>Pip</td>\n",
       "      <td>positive</td>\n",
       "      <td>CULEX PIPIENS</td>\n",
       "      <td>41.776009</td>\n",
       "      <td>-87.779408</td>\n",
       "    </tr>\n",
       "    <tr>\n",
       "      <th>18490</th>\n",
       "      <td>2016</td>\n",
       "      <td>36</td>\n",
       "      <td>3XX W 18TH ST</td>\n",
       "      <td>3</td>\n",
       "      <td>T043</td>\n",
       "      <td>GRAVID</td>\n",
       "      <td>2016-09-09</td>\n",
       "      <td>4</td>\n",
       "      <td>Pip</td>\n",
       "      <td>positive</td>\n",
       "      <td>CULEX PIPIENS</td>\n",
       "      <td>41.857843</td>\n",
       "      <td>-87.635858</td>\n",
       "    </tr>\n",
       "    <tr>\n",
       "      <th>18491</th>\n",
       "      <td>2007</td>\n",
       "      <td>34</td>\n",
       "      <td>46XX N MILWAUKEE AVE</td>\n",
       "      <td>46</td>\n",
       "      <td>T003</td>\n",
       "      <td>GRAVID</td>\n",
       "      <td>2007-08-24</td>\n",
       "      <td>19</td>\n",
       "      <td>Pip</td>\n",
       "      <td>positive</td>\n",
       "      <td>CULEX PIPIENS</td>\n",
       "      <td>41.965376</td>\n",
       "      <td>-87.758403</td>\n",
       "    </tr>\n",
       "    <tr>\n",
       "      <th>18492</th>\n",
       "      <td>2016</td>\n",
       "      <td>30</td>\n",
       "      <td>127XX S DOTY AVE</td>\n",
       "      <td>127</td>\n",
       "      <td>T115</td>\n",
       "      <td>GRAVID</td>\n",
       "      <td>2016-07-27</td>\n",
       "      <td>34</td>\n",
       "      <td>Res</td>\n",
       "      <td>positive</td>\n",
       "      <td>CULEX RESTUANS</td>\n",
       "      <td>41.662395</td>\n",
       "      <td>-87.590176</td>\n",
       "    </tr>\n",
       "    <tr>\n",
       "      <th>18493</th>\n",
       "      <td>2017</td>\n",
       "      <td>33</td>\n",
       "      <td>20XX N DOMINICK ST</td>\n",
       "      <td>20</td>\n",
       "      <td>T240B</td>\n",
       "      <td>SENTINEL</td>\n",
       "      <td>2017-08-17</td>\n",
       "      <td>50</td>\n",
       "      <td>Res</td>\n",
       "      <td>positive</td>\n",
       "      <td>CULEX RESTUANS</td>\n",
       "      <td>41.919197</td>\n",
       "      <td>-87.664758</td>\n",
       "    </tr>\n",
       "  </tbody>\n",
       "</table>\n",
       "<p>17837 rows × 13 columns</p>\n",
       "</div>"
      ],
      "text/plain": [
       "       Year  Week           Address Block  Block   Trap Trap type       Date  \\\n",
       "0      2019    39   100XX W OHARE AIRPORT    100   T910    GRAVID 2019-09-26   \n",
       "1      2019    39       52XX S KOLMAR AVE     52   T114    GRAVID 2019-09-26   \n",
       "2      2019    39      58XX N WESTERN AVE     58   T028    GRAVID 2019-09-26   \n",
       "3      2019    39  39XX N SPRINGFIELD AVE     39   T228    GRAVID 2019-09-26   \n",
       "4      2019    39     131XX S BRANDON AVE    131   T209    GRAVID 2019-09-26   \n",
       "...     ...   ...                     ...    ...    ...       ...        ...   \n",
       "18489  2013    35          63XX W 64TH ST     63   T155    GRAVID 2013-08-29   \n",
       "18490  2016    36           3XX W 18TH ST      3   T043    GRAVID 2016-09-09   \n",
       "18491  2007    34    46XX N MILWAUKEE AVE     46   T003    GRAVID 2007-08-24   \n",
       "18492  2016    30        127XX S DOTY AVE    127   T115    GRAVID 2016-07-27   \n",
       "18493  2017    33      20XX N DOMINICK ST     20  T240B  SENTINEL 2017-08-17   \n",
       "\n",
       "       Mosquito number Mosquito ID WNV Present         Species        Lat  \\\n",
       "0                    2         Res    negative  CULEX RESTUANS        NaN   \n",
       "1                    1         Res    negative  CULEX RESTUANS  41.798211   \n",
       "2                    2         Res    negative  CULEX RESTUANS  41.987245   \n",
       "3                    1         Res    negative  CULEX RESTUANS  41.953664   \n",
       "4                    9         Res    negative  CULEX RESTUANS  41.657069   \n",
       "...                ...         ...         ...             ...        ...   \n",
       "18489                3         Pip    positive   CULEX PIPIENS  41.776009   \n",
       "18490                4         Pip    positive   CULEX PIPIENS  41.857843   \n",
       "18491               19         Pip    positive   CULEX PIPIENS  41.965376   \n",
       "18492               34         Res    positive  CULEX RESTUANS  41.662395   \n",
       "18493               50         Res    positive  CULEX RESTUANS  41.919197   \n",
       "\n",
       "             Lon  \n",
       "0            NaN  \n",
       "1     -87.736925  \n",
       "2     -87.689417  \n",
       "3     -87.724987  \n",
       "4     -87.546049  \n",
       "...          ...  \n",
       "18489 -87.779408  \n",
       "18490 -87.635858  \n",
       "18491 -87.758403  \n",
       "18492 -87.590176  \n",
       "18493 -87.664758  \n",
       "\n",
       "[17837 rows x 13 columns]"
      ]
     },
     "execution_count": 30,
     "metadata": {},
     "output_type": "execute_result"
    }
   ],
   "source": [
    "# Check if the year is properly drop.\n",
    "mosquito_df"
   ]
  },
  {
   "cell_type": "markdown",
   "id": "bd3365d2-9b83-4d52-bf03-8af33423549f",
   "metadata": {},
   "source": [
    "The 'Year' column/field is removed."
   ]
  },
  {
   "cell_type": "markdown",
   "id": "4fe685df-6bed-42e9-b939-85a110ec1080",
   "metadata": {},
   "source": [
    "#### Are there any null values in the dataframe? If so, deal with them appropriately."
   ]
  },
  {
   "cell_type": "code",
   "execution_count": 31,
   "id": "1c9627a0-3bcc-4ea0-a5a1-dd24886a304e",
   "metadata": {},
   "outputs": [
    {
     "data": {
      "text/html": [
       "<div>\n",
       "<style scoped>\n",
       "    .dataframe tbody tr th:only-of-type {\n",
       "        vertical-align: middle;\n",
       "    }\n",
       "\n",
       "    .dataframe tbody tr th {\n",
       "        vertical-align: top;\n",
       "    }\n",
       "\n",
       "    .dataframe thead th {\n",
       "        text-align: right;\n",
       "    }\n",
       "</style>\n",
       "<table border=\"1\" class=\"dataframe\">\n",
       "  <thead>\n",
       "    <tr style=\"text-align: right;\">\n",
       "      <th></th>\n",
       "      <th>Year</th>\n",
       "      <th>Week</th>\n",
       "      <th>Address Block</th>\n",
       "      <th>Block</th>\n",
       "      <th>Trap</th>\n",
       "      <th>Trap type</th>\n",
       "      <th>Date</th>\n",
       "      <th>Mosquito number</th>\n",
       "      <th>Mosquito ID</th>\n",
       "      <th>WNV Present</th>\n",
       "      <th>Species</th>\n",
       "      <th>Lat</th>\n",
       "      <th>Lon</th>\n",
       "    </tr>\n",
       "  </thead>\n",
       "  <tbody>\n",
       "    <tr>\n",
       "      <th>0</th>\n",
       "      <td>2019</td>\n",
       "      <td>39</td>\n",
       "      <td>100XX W OHARE AIRPORT</td>\n",
       "      <td>100</td>\n",
       "      <td>T910</td>\n",
       "      <td>GRAVID</td>\n",
       "      <td>2019-09-26</td>\n",
       "      <td>2</td>\n",
       "      <td>Res</td>\n",
       "      <td>negative</td>\n",
       "      <td>CULEX RESTUANS</td>\n",
       "      <td>NaN</td>\n",
       "      <td>NaN</td>\n",
       "    </tr>\n",
       "    <tr>\n",
       "      <th>1</th>\n",
       "      <td>2019</td>\n",
       "      <td>39</td>\n",
       "      <td>52XX S KOLMAR AVE</td>\n",
       "      <td>52</td>\n",
       "      <td>T114</td>\n",
       "      <td>GRAVID</td>\n",
       "      <td>2019-09-26</td>\n",
       "      <td>1</td>\n",
       "      <td>Res</td>\n",
       "      <td>negative</td>\n",
       "      <td>CULEX RESTUANS</td>\n",
       "      <td>41.798211</td>\n",
       "      <td>-87.736925</td>\n",
       "    </tr>\n",
       "    <tr>\n",
       "      <th>2</th>\n",
       "      <td>2019</td>\n",
       "      <td>39</td>\n",
       "      <td>58XX N WESTERN AVE</td>\n",
       "      <td>58</td>\n",
       "      <td>T028</td>\n",
       "      <td>GRAVID</td>\n",
       "      <td>2019-09-26</td>\n",
       "      <td>2</td>\n",
       "      <td>Res</td>\n",
       "      <td>negative</td>\n",
       "      <td>CULEX RESTUANS</td>\n",
       "      <td>41.987245</td>\n",
       "      <td>-87.689417</td>\n",
       "    </tr>\n",
       "  </tbody>\n",
       "</table>\n",
       "</div>"
      ],
      "text/plain": [
       "   Year  Week          Address Block  Block  Trap Trap type       Date  \\\n",
       "0  2019    39  100XX W OHARE AIRPORT    100  T910    GRAVID 2019-09-26   \n",
       "1  2019    39      52XX S KOLMAR AVE     52  T114    GRAVID 2019-09-26   \n",
       "2  2019    39     58XX N WESTERN AVE     58  T028    GRAVID 2019-09-26   \n",
       "\n",
       "   Mosquito number Mosquito ID WNV Present         Species        Lat  \\\n",
       "0                2         Res    negative  CULEX RESTUANS        NaN   \n",
       "1                1         Res    negative  CULEX RESTUANS  41.798211   \n",
       "2                2         Res    negative  CULEX RESTUANS  41.987245   \n",
       "\n",
       "         Lon  \n",
       "0        NaN  \n",
       "1 -87.736925  \n",
       "2 -87.689417  "
      ]
     },
     "execution_count": 31,
     "metadata": {},
     "output_type": "execute_result"
    }
   ],
   "source": [
    "mosquito_df.head(3)"
   ]
  },
  {
   "cell_type": "code",
   "execution_count": 32,
   "id": "e923ab62-7312-436c-8929-edc667393f01",
   "metadata": {},
   "outputs": [
    {
     "data": {
      "text/plain": [
       "Year                0.00000\n",
       "Week                0.00000\n",
       "Address Block       0.00000\n",
       "Block               0.00000\n",
       "Trap                0.00000\n",
       "Trap type           0.00000\n",
       "Date                0.00000\n",
       "Mosquito number     0.00000\n",
       "Mosquito ID         0.00000\n",
       "WNV Present         0.00000\n",
       "Species             0.00000\n",
       "Lat                12.70393\n",
       "Lon                12.70393\n",
       "dtype: float64"
      ]
     },
     "execution_count": 32,
     "metadata": {},
     "output_type": "execute_result"
    }
   ],
   "source": [
    "# mosquito_df.isna().sum()\n",
    "mosquito_df.isna().mean()*100"
   ]
  },
  {
   "cell_type": "markdown",
   "id": "2a2cf63a-e93d-403a-ae8e-e5af308f1673",
   "metadata": {},
   "source": [
    "There are 2266 null (12.70 %) values at columns 'Lat' and 'Lon'"
   ]
  },
  {
   "cell_type": "code",
   "execution_count": 33,
   "id": "feace8a1-4f66-43a8-838f-fe3435d016e1",
   "metadata": {},
   "outputs": [
    {
     "name": "stderr",
     "output_type": "stream",
     "text": [
      "C:\\Users\\jprna\\AppData\\Local\\Temp\\ipykernel_13952\\3124880303.py:2: FutureWarning: The default value of numeric_only in DataFrameGroupBy.sum is deprecated. In a future version, numeric_only will default to False. Either specify numeric_only or select only columns which should be valid for the function.\n",
      "  mosquito_df.groupby(['Address Block']).sum()\n"
     ]
    },
    {
     "data": {
      "text/html": [
       "<div>\n",
       "<style scoped>\n",
       "    .dataframe tbody tr th:only-of-type {\n",
       "        vertical-align: middle;\n",
       "    }\n",
       "\n",
       "    .dataframe tbody tr th {\n",
       "        vertical-align: top;\n",
       "    }\n",
       "\n",
       "    .dataframe thead th {\n",
       "        text-align: right;\n",
       "    }\n",
       "</style>\n",
       "<table border=\"1\" class=\"dataframe\">\n",
       "  <thead>\n",
       "    <tr style=\"text-align: right;\">\n",
       "      <th></th>\n",
       "      <th>Year</th>\n",
       "      <th>Week</th>\n",
       "      <th>Block</th>\n",
       "      <th>Mosquito number</th>\n",
       "      <th>Lat</th>\n",
       "      <th>Lon</th>\n",
       "    </tr>\n",
       "    <tr>\n",
       "      <th>Address Block</th>\n",
       "      <th></th>\n",
       "      <th></th>\n",
       "      <th></th>\n",
       "      <th></th>\n",
       "      <th></th>\n",
       "      <th></th>\n",
       "    </tr>\n",
       "  </thead>\n",
       "  <tbody>\n",
       "    <tr>\n",
       "      <th>100XX W OHARE</th>\n",
       "      <td>358185</td>\n",
       "      <td>5469</td>\n",
       "      <td>17800</td>\n",
       "      <td>1637</td>\n",
       "      <td>0.000000</td>\n",
       "      <td>0.000000</td>\n",
       "    </tr>\n",
       "    <tr>\n",
       "      <th>100XX W OHARE AIRPORT</th>\n",
       "      <td>3018465</td>\n",
       "      <td>45686</td>\n",
       "      <td>149900</td>\n",
       "      <td>20812</td>\n",
       "      <td>0.000000</td>\n",
       "      <td>0.000000</td>\n",
       "    </tr>\n",
       "    <tr>\n",
       "      <th>101XX S STONY ISLAND AVE</th>\n",
       "      <td>742958</td>\n",
       "      <td>11648</td>\n",
       "      <td>37269</td>\n",
       "      <td>8117</td>\n",
       "      <td>15391.209196</td>\n",
       "      <td>-32318.699654</td>\n",
       "    </tr>\n",
       "    <tr>\n",
       "      <th>104XX S OGLESBY AVE</th>\n",
       "      <td>2008</td>\n",
       "      <td>32</td>\n",
       "      <td>104</td>\n",
       "      <td>2</td>\n",
       "      <td>41.706024</td>\n",
       "      <td>-87.565835</td>\n",
       "    </tr>\n",
       "    <tr>\n",
       "      <th>104XX S VINCENNES AVE</th>\n",
       "      <td>277673</td>\n",
       "      <td>4060</td>\n",
       "      <td>14352</td>\n",
       "      <td>653</td>\n",
       "      <td>5755.198778</td>\n",
       "      <td>-12096.677559</td>\n",
       "    </tr>\n",
       "    <tr>\n",
       "      <th>...</th>\n",
       "      <td>...</td>\n",
       "      <td>...</td>\n",
       "      <td>...</td>\n",
       "      <td>...</td>\n",
       "      <td>...</td>\n",
       "      <td>...</td>\n",
       "    </tr>\n",
       "    <tr>\n",
       "      <th>93XX S DR MARTIN LUTHER KING JR DR</th>\n",
       "      <td>24084</td>\n",
       "      <td>386</td>\n",
       "      <td>1116</td>\n",
       "      <td>43</td>\n",
       "      <td>500.688413</td>\n",
       "      <td>-1051.372128</td>\n",
       "    </tr>\n",
       "    <tr>\n",
       "      <th>96XX S HOYNE AVE</th>\n",
       "      <td>26091</td>\n",
       "      <td>387</td>\n",
       "      <td>1248</td>\n",
       "      <td>45</td>\n",
       "      <td>542.336223</td>\n",
       "      <td>-1139.773165</td>\n",
       "    </tr>\n",
       "    <tr>\n",
       "      <th>96XX S LONGWOOD DR</th>\n",
       "      <td>6039</td>\n",
       "      <td>84</td>\n",
       "      <td>288</td>\n",
       "      <td>26</td>\n",
       "      <td>125.155787</td>\n",
       "      <td>-263.006779</td>\n",
       "    </tr>\n",
       "    <tr>\n",
       "      <th>98XX S AVENUE G</th>\n",
       "      <td>22077</td>\n",
       "      <td>364</td>\n",
       "      <td>1078</td>\n",
       "      <td>113</td>\n",
       "      <td>0.000000</td>\n",
       "      <td>0.000000</td>\n",
       "    </tr>\n",
       "    <tr>\n",
       "      <th>9XX W GARFIELD BLVD</th>\n",
       "      <td>342341</td>\n",
       "      <td>5147</td>\n",
       "      <td>1530</td>\n",
       "      <td>1595</td>\n",
       "      <td>7105.042354</td>\n",
       "      <td>-14900.317225</td>\n",
       "    </tr>\n",
       "  </tbody>\n",
       "</table>\n",
       "<p>154 rows × 6 columns</p>\n",
       "</div>"
      ],
      "text/plain": [
       "                                       Year   Week   Block  Mosquito number  \\\n",
       "Address Block                                                                 \n",
       "100XX W OHARE                        358185   5469   17800             1637   \n",
       "100XX W OHARE AIRPORT               3018465  45686  149900            20812   \n",
       "101XX S STONY ISLAND AVE             742958  11648   37269             8117   \n",
       "104XX S OGLESBY AVE                    2008     32     104                2   \n",
       "104XX S VINCENNES AVE                277673   4060   14352              653   \n",
       "...                                     ...    ...     ...              ...   \n",
       "93XX S DR MARTIN LUTHER KING JR DR    24084    386    1116               43   \n",
       "96XX S HOYNE AVE                      26091    387    1248               45   \n",
       "96XX S LONGWOOD DR                     6039     84     288               26   \n",
       "98XX S AVENUE G                       22077    364    1078              113   \n",
       "9XX W GARFIELD BLVD                  342341   5147    1530             1595   \n",
       "\n",
       "                                             Lat           Lon  \n",
       "Address Block                                                   \n",
       "100XX W OHARE                           0.000000      0.000000  \n",
       "100XX W OHARE AIRPORT                   0.000000      0.000000  \n",
       "101XX S STONY ISLAND AVE            15391.209196 -32318.699654  \n",
       "104XX S OGLESBY AVE                    41.706024    -87.565835  \n",
       "104XX S VINCENNES AVE                5755.198778 -12096.677559  \n",
       "...                                          ...           ...  \n",
       "93XX S DR MARTIN LUTHER KING JR DR    500.688413  -1051.372128  \n",
       "96XX S HOYNE AVE                      542.336223  -1139.773165  \n",
       "96XX S LONGWOOD DR                    125.155787   -263.006779  \n",
       "98XX S AVENUE G                         0.000000      0.000000  \n",
       "9XX W GARFIELD BLVD                  7105.042354 -14900.317225  \n",
       "\n",
       "[154 rows x 6 columns]"
      ]
     },
     "execution_count": 33,
     "metadata": {},
     "output_type": "execute_result"
    }
   ],
   "source": [
    "# Check which Address Block is missing data on 'Lat' and 'Lon'\n",
    "mosquito_df.groupby(['Address Block']).sum()"
   ]
  },
  {
   "cell_type": "markdown",
   "id": "f5f0268b-60ea-4db4-b18f-a903fa355677",
   "metadata": {},
   "source": [
    "There are three Address Block have null data \n",
    "( 100XX W OHARE, 100XX W OHARE AIRPORT, 98XX S AVENUE G )"
   ]
  },
  {
   "cell_type": "code",
   "execution_count": 34,
   "id": "56c23758-0640-48a7-8196-288cd225c1fa",
   "metadata": {},
   "outputs": [
    {
     "data": {
      "text/plain": [
       "Year               1499\n",
       "Week               1499\n",
       "Address Block      1499\n",
       "Block              1499\n",
       "Trap               1499\n",
       "Trap type          1499\n",
       "Date               1499\n",
       "Mosquito number    1499\n",
       "Mosquito ID        1499\n",
       "WNV Present        1499\n",
       "Species            1499\n",
       "Lat                1499\n",
       "Lon                1499\n",
       "dtype: int64"
      ]
     },
     "execution_count": 34,
     "metadata": {},
     "output_type": "execute_result"
    }
   ],
   "source": [
    "# Total rows - 18,495\n",
    "#  All rows (11 row) is missing data on Lat and Lon\n",
    "# mosquito_df[(mosquito_df['Address Block']=='98XX S AVENUE G')].isna().count() # 11\n",
    "\n",
    "# All 1538 rows is missing data on Lat and Lon\n",
    "mosquito_df[(mosquito_df['Address Block']=='100XX W OHARE AIRPORT')].isna().count() # 1499\n",
    "\n",
    "# All 178 rows is missing data on Lat and Lon.\n",
    "# mosquito_df[(mosquito_df['Address Block']=='100XX W OHARE')].isna().count() # 178"
   ]
  },
  {
   "cell_type": "code",
   "execution_count": 35,
   "id": "99f62f12-1f13-4a50-a7c5-e17b0d887c1d",
   "metadata": {},
   "outputs": [],
   "source": [
    "# Below code checks how many rows are null.\n",
    "# mosquito_df[(mosquito_df['Address Block']=='98XX S AVENUE G')].isna().mean()*100 # 100%\n",
    "# mosquito_df[(mosquito_df['Address Block']=='100XX W OHARE AIRPORT')].isna().mean()*100 # 100%\n",
    "# mosquito_df[(mosquito_df['Address Block']=='100XX W OHARE')].isna().mean()*100 # 100%"
   ]
  },
  {
   "cell_type": "markdown",
   "id": "369a89cf-f7ac-47e2-80ec-d3df496c581a",
   "metadata": {},
   "source": [
    "Total - 18,495\n",
    "The 100XX W OHARE AIRPORT has around 8% missing out of the total row.\n",
    "Decided to plug a number taken from the website.\n",
    "\n",
    "While the 100XX W OHARE & 98XX S AVENUE G just left it as is since it is just below 1%."
   ]
  },
  {
   "cell_type": "markdown",
   "id": "e4563975-1d39-4eb4-90e0-5ff22147cace",
   "metadata": {},
   "source": [
    "Search the web for the information.\n",
    "Latitude and longitude coordinates are: 41.978611, -87.904724.\n",
    "(OHare) <https://www.latlong.net/place/o-hare-international-airport-chicago-il-usa-27486.html>"
   ]
  },
  {
   "cell_type": "markdown",
   "id": "ce74ec91-43c4-40e7-b047-7b5a9bae8c51",
   "metadata": {},
   "source": [
    "## Part 2 - Basic EDA Using an appropriate visual, or visuals, explore the \n",
    "#### Relationship between mosquito number and date. "
   ]
  },
  {
   "cell_type": "code",
   "execution_count": null,
   "id": "6940dc12-a232-4faf-aef6-9dd3aae4d086",
   "metadata": {},
   "outputs": [],
   "source": [
    "# The 'Date' field is not properly sorted.\n",
    "# Below code will sort the 'Date' column/field\n",
    "mosquito_df = mosquito_df.sort_values(by=\"Date\", ascending=True)\n",
    "mosquito_df.head(20)"
   ]
  },
  {
   "cell_type": "code",
   "execution_count": 38,
   "id": "03209a26-fbb6-4031-90de-a0a9868bb2f8",
   "metadata": {},
   "outputs": [
    {
     "data": {
      "image/png": "[encoded data removed]",
      "text/plain": [
       "<Figure size 500x300 with 1 Axes>"
      ]
     },
     "metadata": {},
     "output_type": "display_data"
    }
   ],
   "source": [
    "import seaborn as sns\n",
    "\n",
    "# Assign variables\n",
    "date = mosquito = mosquito_df['Date']\n",
    "num_mosquitos = mosquito_df['Mosquito number']\n",
    "date\n",
    "# num_mosquitos\n",
    "\n",
    "plt.figure(figsize=(5, 3))\n",
    "\n",
    "plt.plot_date(date, num_mosquitos)\n",
    "plt.show()"
   ]
  },
  {
   "cell_type": "code",
   "execution_count": 41,
   "id": "010a74ef-2f1b-4bc4-ae5f-3bb8b705eb55",
   "metadata": {},
   "outputs": [
    {
     "data": {
      "text/plain": [
       "<seaborn.axisgrid.FacetGrid at 0x1f5d99e2aa0>"
      ]
     },
     "execution_count": 41,
     "metadata": {},
     "output_type": "execute_result"
    },
    {
     "data": {
      "image/png": "[encoded data removed]",
      "text/plain": [
       "<Figure size 500x500 with 1 Axes>"
      ]
     },
     "metadata": {},
     "output_type": "display_data"
    }
   ],
   "source": [
    "sns.relplot(data=mosquito_df, x=\"Date\", y=\"Mosquito number\", kind=\"line\")"
   ]
  },
  {
   "cell_type": "markdown",
   "id": "b7876e21-03a0-4cac-afa2-4bd74e2a0927",
   "metadata": {},
   "source": [
    "In 2008 there has a big spike in mosquito catch."
   ]
  },
  {
   "cell_type": "markdown",
   "id": "cf967401-b074-4d97-9440-4d9622589aa5",
   "metadata": {},
   "source": [
    "#### Advanced EDA Using an appropriate visual, explore the relationship between mosquito species and WNV prevalence."
   ]
  },
  {
   "cell_type": "code",
   "execution_count": 39,
   "id": "805e6e9d-1120-4c12-a280-f9f55db9a4b9",
   "metadata": {},
   "outputs": [
    {
     "data": {
      "text/plain": [
       "Text(0, 0.5, 'Numbers')"
      ]
     },
     "execution_count": 39,
     "metadata": {},
     "output_type": "execute_result"
    },
    {
     "data": {
      "image/png": "[encoded data removed]",
      "text/plain": [
       "<Figure size 800x500 with 1 Axes>"
      ]
     },
     "metadata": {},
     "output_type": "display_data"
    }
   ],
   "source": [
    "fig, ax = plt.subplots(figsize=(8, 5)) \n",
    "\n",
    "# Relationship between mosquito species and WNV prevalence.\n",
    "gfig = sns.countplot(data=mosquito_df, x=\"Species\", hue=\"WNV Present\",ax=ax)\n",
    "gfig.set_ylabel(\"Numbers\")"
   ]
  },
  {
   "cell_type": "markdown",
   "id": "43081d23-54b0-4e15-998f-0aaf6e0b64bc",
   "metadata": {},
   "source": [
    "The West Nile Virus is seen on the Culex Restuans and Culex Pipiens species."
   ]
  },
  {
   "cell_type": "markdown",
   "id": "a2b71c90-313d-4242-b2b0-6cfd2461ac3d",
   "metadata": {},
   "source": [
    "####  Relationship between the number of mosquitos caught and trap type"
   ]
  },
  {
   "cell_type": "code",
   "execution_count": 40,
   "id": "e2171adf-5f23-405b-b381-ce7aee53a093",
   "metadata": {},
   "outputs": [
    {
     "data": {
      "text/plain": [
       "<seaborn.axisgrid.FacetGrid at 0x1f5d9673790>"
      ]
     },
     "execution_count": 40,
     "metadata": {},
     "output_type": "execute_result"
    },
    {
     "data": {
      "image/png": "[encoded data removed]",
      "text/plain": [
       "<Figure size 682.875x500 with 1 Axes>"
      ]
     },
     "metadata": {},
     "output_type": "display_data"
    }
   ],
   "source": [
    "sns.catplot(\n",
    "    data=mosquito_df, x=\"Mosquito number\", y=\"Trap type\", hue=\"Species\", kind=\"violin\",\n",
    ")"
   ]
  },
  {
   "cell_type": "markdown",
   "id": "90021336-6247-4334-801e-530ac133e56e",
   "metadata": {},
   "source": [
    "The SENTINEL trap has caught a large number of Culex Restuans and Culex Pipiens.\n",
    "However, the GRAVID trap has caught different kinds of mosquito."
   ]
  },
  {
   "cell_type": "markdown",
   "id": "ce12f00b-a77b-4ad6-aa7a-fd429c49bfd2",
   "metadata": {},
   "source": [
    "Below chart shows that the Culex Restuans are the most common type of mosquito. Followed by the Culex Pipiens."
   ]
  },
  {
   "cell_type": "code",
   "execution_count": 50,
   "id": "446b28f7-9b77-41ea-b246-60e9d5e446ae",
   "metadata": {},
   "outputs": [
    {
     "data": {
      "text/plain": [
       "<seaborn.axisgrid.FacetGrid at 0x1f5e63352a0>"
      ]
     },
     "execution_count": 50,
     "metadata": {},
     "output_type": "execute_result"
    },
    {
     "data": {
      "image/png": "[encoded data removed]",
      "text/plain": [
       "<Figure size 682.875x500 with 1 Axes>"
      ]
     },
     "metadata": {},
     "output_type": "display_data"
    }
   ],
   "source": [
    "gdplt = sns.displot(data=mosquito_df, x=\"Mosquito number\", hue=\"Species\", multiple=\"stack\", bins=10)\n",
    "gdplt.set(xlabel =\"Number\", ylabel = \"Mosquito number\", title ='Species Distribution')\n",
    "# gdplt.set_ylabel(\"Numbers\")"
   ]
  },
  {
   "cell_type": "code",
   "execution_count": 45,
   "id": "6e5d862d-0bff-49b1-8169-180ae54182ff",
   "metadata": {},
   "outputs": [
    {
     "data": {
      "text/plain": [
       "<Axes: xlabel='Date', ylabel='Mosquito number'>"
      ]
     },
     "execution_count": 45,
     "metadata": {},
     "output_type": "execute_result"
    },
    {
     "data": {
      "image/png": "[encoded data removed]",
      "text/plain": [
       "<Figure size 640x480 with 1 Axes>"
      ]
     },
     "metadata": {},
     "output_type": "display_data"
    }
   ],
   "source": [
    "sns.lineplot(data=mosquito_df, x=\"Date\", y=\"Mosquito number\", hue=\"Species\")"
   ]
  }
 ],
 "metadata": {
  "kernelspec": {
   "display_name": "Python 3 (ipykernel)",
   "language": "python",
   "name": "python3"
  },
  "language_info": {
   "codemirror_mode": {
    "name": "ipython",
    "version": 3
   },
   "file_extension": ".py",
   "mimetype": "text/x-python",
   "name": "python",
   "nbconvert_exporter": "python",
   "pygments_lexer": "ipython3",
   "version": "3.10.11"
  }
 },
 "nbformat": 4,
 "nbformat_minor": 5
}
