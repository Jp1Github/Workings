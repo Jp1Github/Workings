{
 "cells": [
  {
   "cell_type": "code",
   "execution_count": null,
   "id": "a0c604fe",
   "metadata": {},
   "outputs": [],
   "source": [
    "import pandas as pd"
   ]
  },
  {
   "cell_type": "code",
   "execution_count": null,
   "id": "6a75c1f1",
   "metadata": {},
   "outputs": [],
   "source": [
    "df = pd.read_csv('C:\\\\Users\\jprna\\env_proj\\data-2022\\survey_results_public.csv')  "
   ]
  },
  {
   "cell_type": "code",
   "execution_count": null,
   "id": "c83d1d3c",
   "metadata": {},
   "outputs": [],
   "source": [
    "df = pd.read_csv('C:\\\\Users\\jprna\\env_proj\\data-2022\\survey_results_public.csv')  "
   ]
  },
  {
   "cell_type": "code",
   "execution_count": null,
   "id": "be556164",
   "metadata": {},
   "outputs": [],
   "source": [
    "schema_df = pd.read_csv('C:\\\\Users\\jprna\\env_proj\\data-2022\\survey_results_schema.csv')"
   ]
  },
  {
   "cell_type": "code",
   "execution_count": null,
   "id": "a9eb9dd0",
   "metadata": {},
   "outputs": [],
   "source": [
    "# To set the options of columns to 85\n",
    "pd.set_option('display.max_columns', 85)\n",
    "pd.set_option('display.max_rows', 85)"
   ]
  },
  {
   "cell_type": "code",
   "execution_count": null,
   "id": "4c77d5a8",
   "metadata": {},
   "outputs": [],
   "source": [
    "# schema_df\n",
    "# df.columns"
   ]
  },
  {
   "cell_type": "code",
   "execution_count": null,
   "id": "148b103c",
   "metadata": {
    "scrolled": true
   },
   "outputs": [],
   "source": [
    "# To show the data frame\n",
    "# df.shape shows the rows and column (73268, 79) the show is an attribute\n",
    "# df.info() gives the total rows, column and datatype\n",
    "# df.head() show top. If need a certain number of row pass a value of rows df.head(20)\n",
    "# df.tail (10) show the last ten.\n",
    "# df"
   ]
  },
  {
   "cell_type": "code",
   "execution_count": null,
   "id": "cab98030",
   "metadata": {},
   "outputs": [],
   "source": [
    "person = {'first': ['John'], \n",
    "          'last':['Narvaez'],\n",
    "         'email':['john.narvaez@email.com']}\n",
    "''' Note if person = {'first': 'John', \n",
    "          'last':'Narvaez',\n",
    "         'email':'john.narvaez@email.com'} will not work if df =  DataFrame(person). But\n",
    "         the person['email'] or similar will work'''"
   ]
  },
  {
   "cell_type": "code",
   "execution_count": null,
   "id": "72025df5",
   "metadata": {},
   "outputs": [],
   "source": [
    "person['email']\n",
    "\n",
    "df = pd.DataFrame(person)\n",
    "df"
   ]
  },
  {
   "cell_type": "code",
   "execution_count": null,
   "id": "2e09357f",
   "metadata": {},
   "outputs": [],
   "source": [
    "people = {'first': ['John', 'Paul', 'Emmet'],\n",
    "         'last': ['Narvaez', 'Summers', 'Reynolds'],\n",
    "         'email': ['john.narvaez@email.com', 'paul.summers@email.com', 'emmet.reynolds@email.com']}"
   ]
  },
  {
   "cell_type": "code",
   "execution_count": null,
   "id": "f127390f",
   "metadata": {},
   "outputs": [],
   "source": [
    "people['email']"
   ]
  },
  {
   "cell_type": "code",
   "execution_count": null,
   "id": "085e9834",
   "metadata": {
    "scrolled": true
   },
   "outputs": [],
   "source": [
    "df = pd.DataFrame(people)\n",
    "# Print out the dataframe\n",
    "df"
   ]
  },
  {
   "cell_type": "code",
   "execution_count": null,
   "id": "55e38c4e",
   "metadata": {
    "scrolled": true
   },
   "outputs": [],
   "source": [
    "# Accessing the email column\n",
    "# Just returning a series\n",
    "# dataframe is rows and columns\n",
    "df['email']\n",
    "\n",
    "''' df.email is possible but not recommended because it might be named an attributes\n",
    "or method. Could cause error if the same name in column '''\n",
    "\n",
    "# To check use the type function.pandas.core.series.Series\n",
    "# Series is just a list of data but with more function. Rows of data of a column\n",
    "type(df['email'])"
   ]
  },
  {
   "cell_type": "code",
   "execution_count": null,
   "id": "943e6831",
   "metadata": {},
   "outputs": [],
   "source": [
    "# df = pd.read_csv('C:\\\\Users\\jprna\\env_proj\\data-2022\\survey_results_public.csv')  \n",
    "# df = pd.DataFrame('C:\\\\Users\\jprna\\env_proj\\data-2022\\survey_results_public.csv')# Error \n",
    "# To proper convert to DataFrame from csv file in a directory.\n",
    "df_csv = pd.read_csv('C:\\\\Users\\jprna\\env_proj\\data-2022\\survey_results_public.csv')\n",
    "df = pd.DataFrame(df_csv)  \n",
    "# To print out the datafram\n",
    "df"
   ]
  },
  {
   "cell_type": "code",
   "execution_count": null,
   "id": "29c6929a",
   "metadata": {},
   "outputs": [],
   "source": [
    "# Create multiple columns and could no longer a series.\n",
    "df[['last', 'email']]"
   ]
  },
  {
   "cell_type": "code",
   "execution_count": null,
   "id": "a114a59c",
   "metadata": {},
   "outputs": [],
   "source": [
    "# Result - pandas.core.frame.DataFrame. No longer a series.\n",
    "type(df[['last', 'email']])"
   ]
  },
  {
   "cell_type": "code",
   "execution_count": null,
   "id": "e2e0db1b",
   "metadata": {},
   "outputs": [],
   "source": [
    "# To get the columns of the dataframe. Index(['first', 'last', 'email'], dtype='object'b\n",
    "df.columns"
   ]
  },
  {
   "cell_type": "code",
   "execution_count": null,
   "id": "6764b9ef",
   "metadata": {},
   "outputs": [],
   "source": [
    "#iloc & loc\n",
    "# iloc select the row by integer location \n",
    "df.iloc[2]"
   ]
  },
  {
   "cell_type": "code",
   "execution_count": null,
   "id": "d5e7fa29",
   "metadata": {},
   "outputs": [],
   "source": [
    "# Locate different columns\n",
    "df.iloc[[0, 2]]\n",
    "# df.iloc[[0, 2],2]"
   ]
  },
  {
   "cell_type": "code",
   "execution_count": null,
   "id": "bde30615",
   "metadata": {},
   "outputs": [],
   "source": [
    "df.iloc[[0, 2], 2]"
   ]
  },
  {
   "cell_type": "code",
   "execution_count": null,
   "id": "af23baf5",
   "metadata": {},
   "outputs": [],
   "source": [
    "# df.iloc[[0, 1], 1:]\n",
    "# df.iloc[[0, 2], 0:]\n",
    "# df.iloc[[0,2], -1:]"
   ]
  },
  {
   "cell_type": "code",
   "execution_count": null,
   "id": "650d30e4",
   "metadata": {},
   "outputs": [],
   "source": [
    "# Get specific rows and columns\n",
    "# df.loc[[0,1], ['last', 'email']]\n",
    "# df.loc[[0,2], ['first', 'last', 'email']]"
   ]
  }
 ],
 "metadata": {
  "kernelspec": {
   "display_name": "Python 3 (ipykernel)",
   "language": "python",
   "name": "python3"
  },
  "language_info": {
   "codemirror_mode": {
    "name": "ipython",
    "version": 3
   },
   "file_extension": ".py",
   "mimetype": "text/x-python",
   "name": "python",
   "nbconvert_exporter": "python",
   "pygments_lexer": "ipython3",
   "version": "3.10.11"
  }
 },
 "nbformat": 4,
 "nbformat_minor": 5
}
